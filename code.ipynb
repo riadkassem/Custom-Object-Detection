{
 "cells": [
  {
   "cell_type": "markdown",
   "id": "4c491d81",
   "metadata": {},
   "source": [
    "## 1. Split images into train and validation folders\n"
   ]
  },
  {
   "cell_type": "code",
   "execution_count": null,
   "id": "10c98f66",
   "metadata": {},
   "outputs": [],
   "source": [
    "# Unzip images to a custom data folder\n",
    "!unzip -q data.zip -d custom_data"
   ]
  },
  {
   "cell_type": "markdown",
   "id": "a4c20b7e",
   "metadata": {},
   "source": [
    "Ultralytics requires a particular folder structure to store training data for models. Ultralytics requires a particular folder structure to store training data for models. The root folder is named “data”. Inside, there are two main folders:\n",
    "\n",
    "*   **Train**: These are the actual images used to train the model. In one epoch of training, every image in the train set is passed into the neural network. The training algorithm adjusts the network weights to fit the data in the images.\n",
    "\n",
    "\n",
    "*   **Validation**: These images are used to check the model's performance at the end of each training epoch.\n",
    "\n",
    "In each of these folders is a “images” folder and a “labels” folder, which hold the image files and annotation files respectively."
   ]
  },
  {
   "cell_type": "markdown",
   "id": "6f7607ac",
   "metadata": {},
   "source": [
    "I wrote a Python script that will automatically create the required folder structure and randomly move 80% of dataset to the \"train\" folder and 20% to the \"validation\" folder. Run the following code block to download and execute the script."
   ]
  },
  {
   "cell_type": "code",
   "execution_count": null,
   "id": "5bcee748",
   "metadata": {},
   "outputs": [],
   "source": [
    "# TO DO: Improve robustness of train_val_split.py script so it can handle nested data folders, etc\n",
    "!python train_val_split.py --datapath=\"custom_data\" --train_pct=0.8"
   ]
  },
  {
   "cell_type": "markdown",
   "id": "145c10ea",
   "metadata": {},
   "source": [
    "# 2.&nbsp;Install Requirements (Ultralytics)\n",
    "\n",
    "Next, we'll install the Ultralytics library. This Python library will be used to train the YOLO model."
   ]
  },
  {
   "cell_type": "code",
   "execution_count": null,
   "id": "a1c7a02d",
   "metadata": {},
   "outputs": [],
   "source": [
    "%pip install ultralytics"
   ]
  },
  {
   "cell_type": "markdown",
   "id": "76fc11da",
   "metadata": {},
   "source": [
    "# 3.&nbsp;Configure Training\n"
   ]
  },
  {
   "cell_type": "markdown",
   "id": "e2009353",
   "metadata": {},
   "source": [
    "There's one last step before we can run training: we need to create the Ultralytics training configuration YAML file. This file specifies the location of your train and validation data, and it also defines the model's classes. An example configuration file model is available [here](https://github.com/ultralytics/ultralytics/blob/main/ultralytics/cfg/datasets/coco128.yaml).\n",
    "\n",
    "Run the code block below to automatically generate a `data.yaml` configuration file. Make sure you have a labelmap file located at `custom_data/classes.txt`. If you used Label Studio or a pre-made dataset, it should already be present. If you assembled the dataset another way, you may have to manually create the `classes.txt` file."
   ]
  },
  {
   "cell_type": "code",
   "execution_count": null,
   "id": "8cf8cc49",
   "metadata": {},
   "outputs": [],
   "source": [
    "# Python function to automatically create data.yaml config file\n",
    "# 1. Reads \"classes.txt\" file to get list of class names\n",
    "# 2. Creates data dictionary with correct paths to folders, number of classes, and names of classes\n",
    "# 3. Writes data in YAML format to data.yaml\n",
    "\n",
    "import yaml\n",
    "import os\n",
    "\n",
    "def create_data_yaml(path_to_classes_txt, path_to_data_yaml):\n",
    "\n",
    "  # Read class.txt to get class names\n",
    "  if not os.path.exists(path_to_classes_txt):\n",
    "    print(f'classes.txt file not found! Please create a classes.txt labelmap and move it to {path_to_classes_txt}')\n",
    "    return\n",
    "  with open(path_to_classes_txt, 'r') as f:\n",
    "    classes = []\n",
    "    for line in f.readlines():\n",
    "      if len(line.strip()) == 0: continue\n",
    "      classes.append(line.strip())\n",
    "  number_of_classes = len(classes)\n",
    "\n",
    "  # Create data dictionary\n",
    "  data = {\n",
    "      'path': 'data',\n",
    "      'train': 'train/images',\n",
    "      'val': 'validation/images',\n",
    "      'nc': number_of_classes,\n",
    "      'names': classes\n",
    "  }\n",
    "\n",
    "  # Write data to YAML file\n",
    "  with open(path_to_data_yaml, 'w') as f:\n",
    "    yaml.dump(data, f, sort_keys=False)\n",
    "  print(f'Created config file at {path_to_data_yaml}')\n",
    "\n",
    "  return\n",
    "\n",
    "# Define path to classes.txt and run function\n",
    "path_to_classes_txt = 'custom_data/classes.txt'\n",
    "path_to_data_yaml = 'data.yaml'\n",
    "\n",
    "create_data_yaml(path_to_classes_txt, path_to_data_yaml)\n",
    "\n",
    "print('\\nFile contents:\\n')\n",
    "!cat data.yaml"
   ]
  },
  {
   "cell_type": "markdown",
   "id": "77387b1d",
   "metadata": {},
   "source": [
    "# 4.&nbsp;Model Training"
   ]
  },
  {
   "cell_type": "markdown",
   "id": "d5c2ff4c",
   "metadata": {},
   "source": [
    "## 4.1 Training Parameters\n",
    "Now that the data is organized and the config file is created, we're ready to start training! First, there are a few important parameters to decide on.\n",
    "\n",
    "**Model architecture & size (`model`):**\n",
    "\n",
    "There are several YOLO11 models sizes available to train, including `yolo11n.pt`, `yolo11s.pt`, `yolo11m.pt`, `yolo11l.pt`, and `yolo11xl.pt`. Larger models run slower but have higher accuracy, while smaller models run faster but have lower accuracy. If you aren't sure which model size to use, `yolo11s.pt` is a good starting point.\n",
    "\n",
    "You can also train YOLOv8 or YOLOv5 models by substituting `yolo11` for `yolov8` or `yolov5`.\n",
    "\n",
    "\n",
    "**Number of epochs (`epochs`)**\n",
    "\n",
    "In machine learning, one “epoch” is one single pass through the full training dataset. Setting the number of epochs dictates how long the model will train for. The best amount of epochs to use depends on the size of the dataset and the model architecture. If your dataset has less than 200 images, a good starting point is 60 epochs. If your dataset has more than 200 images, a good starting point is 40 epochs.\n",
    "\n",
    "\n",
    "**Resolution (`imgsz`)**\n",
    "\n",
    "Resolution has a large impact on the speed and accuracy of the model: a lower resolution model will have higher speed but less accuracy. YOLO models are typically trained and inferenced at a 640x640 resolution. However, if you want your model to run faster or know you will be working with low-resolution images, try using a lower resolution like 480x480.\n"
   ]
  },
  {
   "cell_type": "markdown",
   "id": "2208be91",
   "metadata": {},
   "source": [
    "## 4.2 Train the model"
   ]
  },
  {
   "cell_type": "markdown",
   "id": "634624a0",
   "metadata": {},
   "source": [
    "Run the following code block to begin training. If you want to use a different model, number of epochs, or resolution, change `model`, `epochs`, or `imgsz`."
   ]
  },
  {
   "cell_type": "code",
   "execution_count": null,
   "id": "b0af0bde",
   "metadata": {},
   "outputs": [],
   "source": [
    "!yolo detect train data=data.yaml model=yolo11s.pt epochs=60 imgsz=640"
   ]
  },
  {
   "cell_type": "markdown",
   "id": "87ddf2bd",
   "metadata": {},
   "source": [
    "The training algorithm will parse the images in the training and validation directories and then start training the model. At the end of each training epoch, the program runs the model on the validation dataset and reports the resulting mAP, precision, and recall. As training continues, the mAP should generally increase with each epoch. Training will end once it goes through the number of epochs specified by `epochs`.\n",
    "\n",
    "> **NOTE:** Make sure to allow training to run to completion, because an optimizer runs at the end of training that strips out unneeded layers from the model.\n",
    "\n",
    "The best trained model weights will be saved in `runs/detect/train/weights/best.pt`. Additional information about training is saved in the `runs/detect/train` folder, including a `results.png` file that shows how loss, precision, recall, and mAP progressed over each epoch."
   ]
  },
  {
   "cell_type": "markdown",
   "id": "04197dc5",
   "metadata": {},
   "source": [
    "# 5.&nbsp;Model Testing"
   ]
  },
  {
   "cell_type": "markdown",
   "id": "60266bb1",
   "metadata": {},
   "source": [
    "The model has been trained; now it's time to test it! The commands below run the model on the images in the validation folder and then display the results for the first 10 images. This is a good way to confirm your model is working as expected. Click Play on the blocks below to see how your model performs."
   ]
  },
  {
   "cell_type": "code",
   "execution_count": null,
   "id": "ccfe5cae",
   "metadata": {},
   "outputs": [],
   "source": [
    "!yolo detect predict model=runs/detect/train/weights/best.pt source=data/validation/images save=True"
   ]
  },
  {
   "cell_type": "code",
   "execution_count": null,
   "id": "3f790b95",
   "metadata": {},
   "outputs": [],
   "source": [
    "import glob\n",
    "from IPython.display import Image, display\n",
    "for image_path in glob.glob(f'runs/detect/predict/*.jpg')[:10]:\n",
    "  display(Image(filename=image_path, height=400))\n",
    "  print('\\n')\n"
   ]
  },
  {
   "cell_type": "markdown",
   "id": "145df8e6",
   "metadata": {},
   "source": [
    "The model should draw a box around each object of interest in each image. If it isn't doing a good job of detecting objects, here are a few tips:\n",
    "\n",
    "1. Double-check your dataset to make sure there are no labeling errors or conflicting examples.\n",
    "2. Increase the number of epochs used for training.\n",
    "3. Use a larger model size (e.g. `yolo11l.pt`).\n",
    "4. Add more images to the training dataset."
   ]
  },
  {
   "cell_type": "markdown",
   "id": "ee98edcb",
   "metadata": {},
   "source": [
    "## 6. Download YOLO Model\n",
    "\n",
    "First, zip and download the trained model by running the code blocks below.\n",
    "\n",
    "The code creates a folder named `my_model`, moves the model weights into it, and renames them from `best.pt` to `my_model.pt`. It also adds the training results in case you want to reference them later. It then zips the folder as `my_model.zip`."
   ]
  },
  {
   "cell_type": "code",
   "execution_count": null,
   "id": "e0a69af7",
   "metadata": {},
   "outputs": [],
   "source": [
    "# Create \"my_model\" folder to store model weights and train results\n",
    "!mkdir my_model\n",
    "!cp runs/detect/train/weights/best.pt my_model/my_model.pt\n",
    "!cp -r runs/detect/train my_model\n",
    "\n",
    "# Zip into \"my_model.zip\"\n",
    "%cd my_model\n",
    "!zip my_model.zip my_model.pt\n",
    "!zip -r my_model.zip train"
   ]
  },
  {
   "cell_type": "code",
   "execution_count": null,
   "id": "54f90684",
   "metadata": {},
   "outputs": [],
   "source": [
    "## Run the script using the downloaded model and test it\n",
    "!python my_model/yolo_detect.py --model my_model/my_model.pt --source usb0 --resolution 1280x720"
   ]
  }
 ],
 "metadata": {
  "kernelspec": {
   "display_name": "venv",
   "language": "python",
   "name": "python3"
  },
  "language_info": {
   "codemirror_mode": {
    "name": "ipython",
    "version": 3
   },
   "file_extension": ".py",
   "mimetype": "text/x-python",
   "name": "python",
   "nbconvert_exporter": "python",
   "pygments_lexer": "ipython3",
   "version": "3.13.7"
  }
 },
 "nbformat": 4,
 "nbformat_minor": 5
}
